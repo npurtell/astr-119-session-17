{
 "cells": [
  {
   "cell_type": "markdown",
   "metadata": {},
   "source": [
    "## perform integration of solar system"
   ]
  },
  {
   "cell_type": "code",
   "execution_count": null,
   "metadata": {},
   "outputs": [],
   "source": [
    "#set # of planets\n",
    "n_planets = 3\n",
    "\n",
    "#set max time of simulation\n",
    "t_max = 2.0\n",
    "\n",
    "#create empty list of planets\n",
    "p = []\n",
    "\n",
    "#set planets\n",
    "for i in range(n_planets):\n",
    "    \n",
    "    #create empty planet\n",
    "    ptmp = planet(0.0,0.0)\n",
    "    \n",
    "    #set planet properties\n",
    "    SetPlanet(ptmp,i)\n",
    "    \n",
    "    #remember planet\n",
    "    p.append(ptmp)\n",
    "    \n",
    "#evolve SS\n",
    "EvolveSolarSystem(p,n_planets,t_max)"
   ]
  },
  {
   "cell_type": "markdown",
   "metadata": {},
   "source": [
    "## Read data back in for every planet"
   ]
  },
  {
   "cell_type": "code",
   "execution_count": null,
   "metadata": {
    "scrolled": true
   },
   "outputs": [],
   "source": [
    "fname = \"planet.Mercury.txt\"\n",
    "istepMg,tMg,dtMg,istepM,tM,dtM,xM,yM,vxM,axM,ayM = read_twelve_arrays(fname)"
   ]
  },
  {
   "cell_type": "code",
   "execution_count": null,
   "metadata": {
    "scrolled": true
   },
   "outputs": [],
   "source": [
    "fname = \"planet.Earth.txt\"\n",
    "istepEg,tEg,dtEg,istepE,tE,dtE,xE,yE,vxE,axE,ayE = read_twelve_arrays(fname)"
   ]
  },
  {
   "cell_type": "code",
   "execution_count": null,
   "metadata": {
    "scrolled": true
   },
   "outputs": [],
   "source": [
    "fname = \"planet.Venus.txt\"\n",
    "istepVg,tVg,dtVg,istepV,tV,dtV,xV,yV,vxV,axV,ayV = read_twelve_arrays(fname)"
   ]
  },
  {
   "cell_type": "markdown",
   "metadata": {},
   "source": [
    "## Plot data"
   ]
  },
  {
   "cell_type": "code",
   "execution_count": null,
   "metadata": {},
   "outputs": [],
   "source": [
    "fig = plt.figure(figsize=(7,7))\n",
    "\n",
    "xSun = [0.0]\n",
    "ySun = [0.0]\n",
    "plt.plot(xSun,ySun,'o',color=\"0.5\",label=\"Sun\")\n",
    "\n",
    "plt.plot(xM,yM,color=\"red\")\n",
    "plt.plot(xM[-1],yM[-1],'o',color=\"red\",label=\"Mercury\")\n",
    "\n",
    "plt.plot(xV,yV,color=\"green\")\n",
    "plt.plot(xV[-1],yV[-1], 'o', color=\"green\", label=\"Venus\")\n",
    "\n",
    "plt.plot(xE,yE,color=\"blue\")\n",
    "plt.plot(xE[-1],yE[-1],'o',color=\"blue\",label=\"Earth\")\n",
    "\n",
    "plt.xlim([-1.25,1.25])\n",
    "plt.ylim([-1.25,1.25])\n",
    "plt.xlabel('x[AU]')\n",
    "plt.ylabel('y[AU]')\n",
    "plt.axes().set_aspect('equal')\n",
    "plt.legend(frameon=False,loc=2)"
   ]
  },
  {
   "cell_type": "code",
   "execution_count": null,
   "metadata": {},
   "outputs": [],
   "source": []
  }
 ],
 "metadata": {
  "kernelspec": {
   "display_name": "Python 3",
   "language": "python",
   "name": "python3"
  },
  "language_info": {
   "codemirror_mode": {
    "name": "ipython",
    "version": 3
   },
   "file_extension": ".py",
   "mimetype": "text/x-python",
   "name": "python",
   "nbconvert_exporter": "python",
   "pygments_lexer": "ipython3",
   "version": "3.6.5"
  }
 },
 "nbformat": 4,
 "nbformat_minor": 2
}
